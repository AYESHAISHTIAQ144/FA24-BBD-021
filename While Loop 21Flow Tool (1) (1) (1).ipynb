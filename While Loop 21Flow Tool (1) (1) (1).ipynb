{
 "cells": [
  {
   "cell_type": "markdown",
   "id": "38160d7c",
   "metadata": {},
   "source": [
    "## While Loop: A Flexible Control Flow Tool"
   ]
  },
  {
   "cell_type": "markdown",
   "id": "77109a7f",
   "metadata": {},
   "source": [
    "### Introduction\n",
    "\n",
    "#### In Python, the while loop is another essential control flow statement that allows you to execute a block of code repeatedly as long as a certain condition is true. Unlike the for loop, which iterates over a sequence of elements, the while loop continues to execute until the condition becomes false.\n",
    "\n",
    "### Basic Structure of a While Loop"
   ]
  },
  {
   "cell_type": "code",
   "execution_count": null,
   "id": "51691104",
   "metadata": {},
   "outputs": [],
   "source": [
    "while condition:\n",
    "    # code to be executed"
   ]
  },
  {
   "cell_type": "markdown",
   "id": "6dceb2bb",
   "metadata": {},
   "source": [
    "### Breakdown:\n",
    "\n",
    "#### while: This keyword initiates the loop.\n",
    "#### condition: An expression that evaluates to a Boolean value (True or False).\n",
    "#### code to be executed: The block of code that will be repeated as long as the condition is true.\n",
    "\n",
    "### How the While Loop Works\n",
    "#### Condition Check: The loop starts by evaluating the condition.\n",
    "#### Code Execution: If the condition is True, the code inside the loop is executed.\n",
    "#### Loop Repetition: The condition is checked again.\n",
    "#### Termination: If the condition is False, the loop terminates, and the program continues with the next statement.\n",
    "#### Example: Counting Down"
   ]
  },
  {
   "cell_type": "code",
   "execution_count": 1,
   "id": "dbecf8bb",
   "metadata": {},
   "outputs": [
    {
     "name": "stdout",
     "output_type": "stream",
     "text": [
      "5\n",
      "4\n",
      "3\n",
      "2\n",
      "1\n",
      "Countdown finished!\n"
     ]
    }
   ],
   "source": [
    "count = 5\n",
    "while count > 0:\n",
    "    print(count)\n",
    "    count -= 1\n",
    "print(\"Countdown finished!\")\n",
    "# This code will print the numbers from 5 to 1, \n",
    "# then print \"Countdown finished!\"."
   ]
  },
  {
   "cell_type": "markdown",
   "id": "805a842b",
   "metadata": {},
   "source": [
    "### Important Note: Infinite Loops\n",
    "#### If the condition in a while loop never becomes False, the loop will continue indefinitely, creating an infinite loop. This can be problematic, so it's crucial to ensure that the condition will eventually become False.\n",
    "\n",
    "### Common Use Cases of While Loops\n",
    "#### Input Validation: Continuously prompting the user for input until a valid value is provided.\n",
    "#### Game Loops: Continuously updating the game state and rendering the screen.\n",
    "#### Data Processing: Iterating over data until a specific condition is met.\n",
    "#### Numerical Calculations: Performing iterative calculations, such as numerical integration or optimization.\n",
    "#### Example: Input Validation"
   ]
  },
  {
   "cell_type": "code",
   "execution_count": null,
   "id": "38287b5a",
   "metadata": {},
   "outputs": [],
   "source": [
    "while True:\n",
    "    age = int(input(\"Enter your age: \"))\n",
    "    if age >= 0:\n",
    "        print(\"Valid age!\")\n",
    "        break\n",
    "    else:\n",
    "        print(\"Invalid age. Please enter a non-negative number.\")\n",
    "# This code will keep asking for the user's age until a non-negative value is entered."
   ]
  },
  {
   "cell_type": "markdown",
   "id": "93d5abcc",
   "metadata": {},
   "source": [
    "### Key Points to Remember\n",
    "#### Condition: Ensure the condition will eventually become False to avoid infinite loops.\n",
    "#### Indentation: Use proper indentation to define the code block within the loop.\n",
    "#### Variable Modification: Make sure to modify variables within the loop to affect the condition and eventually terminate the loop.\n",
    "#### By understanding the while loop and its applications, you can write more flexible and dynamic Python programs to solve various data analysis problems."
   ]
  },
  {
   "cell_type": "code",
   "execution_count": 2,
   "id": "5f00a475",
   "metadata": {},
   "outputs": [
    {
     "name": "stdout",
     "output_type": "stream",
     "text": [
      "1\n",
      "2\n",
      "3\n",
      "4\n",
      "5\n",
      "6\n",
      "7\n",
      "8\n",
      "9\n",
      "10\n"
     ]
    }
   ],
   "source": [
    "# 1. Counting with while loop\n",
    "count=1\n",
    "while count<=10:\n",
    "    print(count)\n",
    "    count+=1"
   ]
  },
  {
   "cell_type": "code",
   "execution_count": 4,
   "id": "d00a9364-0b7a-4228-853f-95ed7bf9af1f",
   "metadata": {},
   "outputs": [
    {
     "name": "stdout",
     "output_type": "stream",
     "text": [
      "2\n",
      "4\n",
      "6\n",
      "8\n",
      "10\n",
      "12\n",
      "14\n",
      "16\n",
      "18\n",
      "20\n"
     ]
    }
   ],
   "source": [
    "# 2. Even numbers\n",
    "count=1\n",
    "while count<=20:\n",
    "    if count%2==0:\n",
    "        print(count)\n",
    "    count+=1"
   ]
  },
  {
   "cell_type": "code",
   "execution_count": 6,
   "id": "1b16cfc8-ad7e-4b5b-a50d-dcbd082d5048",
   "metadata": {},
   "outputs": [
    {
     "name": "stdout",
     "output_type": "stream",
     "text": [
      "The sum of first 10 natural numbers: 55\n"
     ]
    }
   ],
   "source": [
    "# 3. Sum of Natural numbers\n",
    "count=1\n",
    "sum=0\n",
    "while count<=10:\n",
    "    sum+=count\n",
    "    count+=1\n",
    "print('The sum of first 10 natural numbers:',sum)"
   ]
  },
  {
   "cell_type": "code",
   "execution_count": 4,
   "id": "6b90a1db-2815-4857-b73d-19b08004574f",
   "metadata": {},
   "outputs": [
    {
     "name": "stdin",
     "output_type": "stream",
     "text": [
      "Enter number: 8\n",
      "Enter number: 5\n",
      "Enter number: 84\n",
      "Enter number: -1\n"
     ]
    },
    {
     "name": "stdout",
     "output_type": "stream",
     "text": [
      "Sum of entered numbers: 97\n"
     ]
    }
   ],
   "source": [
    "# 4. User input with Condition\n",
    "sum=0\n",
    "while True:\n",
    "    number=int(input('Enter number:'))\n",
    "    if number<0:\n",
    "        break\n",
    "    sum+=number\n",
    "print('Sum of entered numbers:',sum)"
   ]
  },
  {
   "cell_type": "code",
   "execution_count": 6,
   "id": "8f2d150f-5d17-4fee-b7c9-1e51a8746b5e",
   "metadata": {},
   "outputs": [
    {
     "name": "stdin",
     "output_type": "stream",
     "text": [
      "Guess number between 1 and 100: 55\n"
     ]
    },
    {
     "name": "stdout",
     "output_type": "stream",
     "text": [
      "Lower than correct guess\n"
     ]
    },
    {
     "name": "stdin",
     "output_type": "stream",
     "text": [
      "Guess number between 1 and 100: 78\n"
     ]
    },
    {
     "name": "stdout",
     "output_type": "stream",
     "text": [
      "Higher than correct guess\n"
     ]
    },
    {
     "name": "stdin",
     "output_type": "stream",
     "text": [
      "Guess number between 1 and 100: 60\n"
     ]
    },
    {
     "name": "stdout",
     "output_type": "stream",
     "text": [
      "You have guessed right\n"
     ]
    }
   ],
   "source": [
    "# 5. Number Guessing Game\n",
    "correct_number=60\n",
    "guess=0\n",
    "while True:\n",
    "    guess=int(input('Guess number between 1 and 100:'))\n",
    "    if guess==correct_number:\n",
    "        print('You have guessed right')\n",
    "        break\n",
    "    elif guess<correct_number:\n",
    "        print('Lower than correct guess')\n",
    "    else:\n",
    "        print('Higher than correct guess')"
   ]
  },
  {
   "cell_type": "code",
   "execution_count": 8,
   "id": "a5074ee7-4cfa-4df9-912c-838a393e72bd",
   "metadata": {},
   "outputs": [
    {
     "name": "stdin",
     "output_type": "stream",
     "text": [
      "Enter a positive integer: 65\n"
     ]
    },
    {
     "name": "stdout",
     "output_type": "stream",
     "text": [
      "Factorial: 8247650592082470666723170306785496252186258551345437492922123134388955774976000000000000000\n"
     ]
    }
   ],
   "source": [
    "# 6. Factorial Calculation\n",
    "number=int(input('Enter a positive integer:'))\n",
    "factorial=1\n",
    "while number>0:\n",
    "    factorial*=number\n",
    "    number-=1\n",
    "print('Factorial:',factorial)"
   ]
  },
  {
   "cell_type": "code",
   "execution_count": 14,
   "id": "9b96e9c3-ab87-4cae-ba64-05b9114e6834",
   "metadata": {},
   "outputs": [
    {
     "name": "stdin",
     "output_type": "stream",
     "text": [
      "Enter a number or('done' to finish): 10\n",
      "Enter a number or('done' to finish): 20\n",
      "Enter a number or('done' to finish): 30\n",
      "Enter a number or('done' to finish): done\n"
     ]
    },
    {
     "name": "stdout",
     "output_type": "stream",
     "text": [
      "Average: 20.0\n"
     ]
    }
   ],
   "source": [
    "# 7. Average Calculator\n",
    "total=0\n",
    "count=0\n",
    "while True:\n",
    "    number=input(\"Enter a number or('done' to finish):\")\n",
    "    if number.lower()=='done':\n",
    "        break\n",
    "    else:\n",
    "        total+=float(number)\n",
    "        count+=1\n",
    "print('Average:', total/count)"
   ]
  },
  {
   "cell_type": "code",
   "execution_count": null,
   "id": "edbf2063-49ed-4878-92eb-734c8b0d1523",
   "metadata": {},
   "outputs": [],
   "source": [
    "# 8. Fibonacci Sequence\n",
    "n=int(input('Enter a number:'))\n",
    "a, b = 0, 1\n",
    "while a<=n:\n",
    "    print(a, end=' ')\n",
    "    a, b = b, a+b"
   ]
  }
 ],
 "metadata": {
  "kernelspec": {
   "display_name": "Python 3 (ipykernel)",
   "language": "python",
   "name": "python3"
  },
  "language_info": {
   "codemirror_mode": {
    "name": "ipython",
    "version": 3
   },
   "file_extension": ".py",
   "mimetype": "text/x-python",
   "name": "python",
   "nbconvert_exporter": "python",
   "pygments_lexer": "ipython3",
   "version": "3.12.4"
  }
 },
 "nbformat": 4,
 "nbformat_minor": 5
}
